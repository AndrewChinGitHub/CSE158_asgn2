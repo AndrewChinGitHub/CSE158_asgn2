{
 "cells": [
  {
   "cell_type": "code",
   "execution_count": 1,
   "metadata": {},
   "outputs": [],
   "source": [
    "import gzip\n",
    "import csv\n",
    "import random\n",
    "import scipy\n",
    "import tarfile\n",
    "import pandas as pd\n",
    "import numpy as np\n",
    "from sklearn import linear_model\n",
    "import sklearn\n",
    "from collections import defaultdict\n",
    "import re\n",
    "from string import digits\n",
    "import urllib\n",
    "import scipy.optimize\n",
    "from collections import defaultdict # Dictionaries with default values\n",
    "import nltk\n",
    "import string\n",
    "from nltk.stem.porter import *\n",
    "import ast\n",
    "import json\n",
    "from sklearn.feature_extraction.text import TfidfVectorizer\n",
    "from sklearn.linear_model import Ridge\n",
    "from sklearn.metrics import mean_squared_error"
   ]
  },
  {
   "cell_type": "markdown",
   "metadata": {},
   "source": [
    "## Import Data"
   ]
  },
  {
   "cell_type": "code",
   "execution_count": 3,
   "metadata": {},
   "outputs": [],
   "source": [
    "data = pd.read_csv('data/yelp_reviews.csv')"
   ]
  },
  {
   "cell_type": "code",
   "execution_count": 6,
   "metadata": {},
   "outputs": [
    {
     "data": {
      "text/html": [
       "<div>\n",
       "<style scoped>\n",
       "    .dataframe tbody tr th:only-of-type {\n",
       "        vertical-align: middle;\n",
       "    }\n",
       "\n",
       "    .dataframe tbody tr th {\n",
       "        vertical-align: top;\n",
       "    }\n",
       "\n",
       "    .dataframe thead th {\n",
       "        text-align: right;\n",
       "    }\n",
       "</style>\n",
       "<table border=\"1\" class=\"dataframe\">\n",
       "  <thead>\n",
       "    <tr style=\"text-align: right;\">\n",
       "      <th></th>\n",
       "      <th>review_id</th>\n",
       "      <th>user_id</th>\n",
       "      <th>business_id</th>\n",
       "      <th>stars_x</th>\n",
       "      <th>useful_x</th>\n",
       "      <th>funny_x</th>\n",
       "      <th>cool_x</th>\n",
       "      <th>text</th>\n",
       "      <th>date</th>\n",
       "      <th>name_x</th>\n",
       "      <th>...</th>\n",
       "      <th>state</th>\n",
       "      <th>postal_code</th>\n",
       "      <th>latitude</th>\n",
       "      <th>longitude</th>\n",
       "      <th>stars_y</th>\n",
       "      <th>review_count_y</th>\n",
       "      <th>is_open</th>\n",
       "      <th>attributes</th>\n",
       "      <th>categories</th>\n",
       "      <th>hours</th>\n",
       "    </tr>\n",
       "  </thead>\n",
       "  <tbody>\n",
       "    <tr>\n",
       "      <th>0</th>\n",
       "      <td>d6GD13VfPuCqSYWqOfkwbQ</td>\n",
       "      <td>-TCvSRyBCbKqJ7QPYt2JMw</td>\n",
       "      <td>g8OnV26ywJlZpezdBnOWUQ</td>\n",
       "      <td>4.0</td>\n",
       "      <td>0</td>\n",
       "      <td>0</td>\n",
       "      <td>0</td>\n",
       "      <td>This place is awesome.  Gigantic portion, frie...</td>\n",
       "      <td>2010-08-05 06:29:08</td>\n",
       "      <td>Keith</td>\n",
       "      <td>...</td>\n",
       "      <td>NV</td>\n",
       "      <td>89146</td>\n",
       "      <td>36.144713</td>\n",
       "      <td>-115.240092</td>\n",
       "      <td>4.0</td>\n",
       "      <td>3463</td>\n",
       "      <td>1</td>\n",
       "      <td>{'RestaurantsAttire': \"'casual'\", 'BusinessAcc...</td>\n",
       "      <td>American (New), Restaurants, Breakfast &amp; Brunch</td>\n",
       "      <td>{'Monday': '7:30-21:0', 'Tuesday': '7:30-21:0'...</td>\n",
       "    </tr>\n",
       "  </tbody>\n",
       "</table>\n",
       "<p>1 rows × 43 columns</p>\n",
       "</div>"
      ],
      "text/plain": [
       "                review_id                 user_id             business_id  \\\n",
       "0  d6GD13VfPuCqSYWqOfkwbQ  -TCvSRyBCbKqJ7QPYt2JMw  g8OnV26ywJlZpezdBnOWUQ   \n",
       "\n",
       "   stars_x  useful_x  funny_x  cool_x  \\\n",
       "0      4.0         0        0       0   \n",
       "\n",
       "                                                text                 date  \\\n",
       "0  This place is awesome.  Gigantic portion, frie...  2010-08-05 06:29:08   \n",
       "\n",
       "  name_x  ...  state postal_code   latitude   longitude  stars_y  \\\n",
       "0  Keith  ...     NV       89146  36.144713 -115.240092      4.0   \n",
       "\n",
       "  review_count_y is_open                                         attributes  \\\n",
       "0           3463       1  {'RestaurantsAttire': \"'casual'\", 'BusinessAcc...   \n",
       "\n",
       "                                        categories  \\\n",
       "0  American (New), Restaurants, Breakfast & Brunch   \n",
       "\n",
       "                                               hours  \n",
       "0  {'Monday': '7:30-21:0', 'Tuesday': '7:30-21:0'...  \n",
       "\n",
       "[1 rows x 43 columns]"
      ]
     },
     "execution_count": 6,
     "metadata": {},
     "output_type": "execute_result"
    }
   ],
   "source": [
    "data.head(1)"
   ]
  },
  {
   "cell_type": "code",
   "execution_count": 77,
   "metadata": {},
   "outputs": [
    {
     "data": {
      "text/plain": [
       "(500000, 43)"
      ]
     },
     "execution_count": 77,
     "metadata": {},
     "output_type": "execute_result"
    }
   ],
   "source": [
    "data.shape"
   ]
  },
  {
   "cell_type": "markdown",
   "metadata": {},
   "source": [
    "#### Split into Train, Test"
   ]
  },
  {
   "cell_type": "code",
   "execution_count": 78,
   "metadata": {},
   "outputs": [],
   "source": [
    "trainData, testData = sklearn.model_selection.train_test_split(data)"
   ]
  },
  {
   "cell_type": "code",
   "execution_count": 79,
   "metadata": {},
   "outputs": [
    {
     "data": {
      "text/plain": [
       "(375000, 125000)"
      ]
     },
     "execution_count": 79,
     "metadata": {},
     "output_type": "execute_result"
    }
   ],
   "source": [
    "len(trainData),len(testData)"
   ]
  },
  {
   "cell_type": "markdown",
   "metadata": {},
   "source": [
    "## Clean Review Text"
   ]
  },
  {
   "cell_type": "code",
   "execution_count": 80,
   "metadata": {},
   "outputs": [],
   "source": [
    "#Function to clean review text\n",
    "#Returns string of cleaned words\n",
    "def clean_text(text):\n",
    "    punct = string.punctuation\n",
    "    text = text.replace(\"\\n\", ' ').replace(\"\\t\", ' ').lower().strip()\n",
    "    text = [c for c in text if not (c in punct)]\n",
    "    text = ''.join(text)\n",
    "    return text.strip().replace(\"  \",' ')"
   ]
  },
  {
   "cell_type": "code",
   "execution_count": 81,
   "metadata": {},
   "outputs": [],
   "source": [
    "# Useful data structures\n",
    "train_texts = []\n",
    "test_texts = []"
   ]
  },
  {
   "cell_type": "code",
   "execution_count": 82,
   "metadata": {},
   "outputs": [],
   "source": [
    "#Populate data structures\n",
    "\n",
    "#Clean train texts\n",
    "for i in range(len(trainData)):\n",
    "    row = trainData.iloc[i]\n",
    "    text = row.text\n",
    "    train_texts.append(clean_text(text))\n",
    "\n",
    "#Clean test texts\n",
    "for i in range(len(testData)):\n",
    "    row = testData.iloc[i]\n",
    "    text = row.text\n",
    "    test_texts.append(clean_text(text))"
   ]
  },
  {
   "cell_type": "code",
   "execution_count": 83,
   "metadata": {},
   "outputs": [],
   "source": [
    "# stars_y is the avg business star rating. We will be predicting that\n",
    "y_train = [trainData.iloc[i].stars_y for i in range(len(trainData))]"
   ]
  },
  {
   "cell_type": "code",
   "execution_count": 84,
   "metadata": {},
   "outputs": [],
   "source": [
    "y_test = [testData.iloc[i].stars_y for i in range(len(testData))]"
   ]
  },
  {
   "cell_type": "markdown",
   "metadata": {},
   "source": [
    "#### Implement TFIDF Word Vectorizor and apply Ridge Regression"
   ]
  },
  {
   "cell_type": "code",
   "execution_count": 85,
   "metadata": {},
   "outputs": [],
   "source": [
    "#Training\n",
    "vectorizer = TfidfVectorizer(strip_accents='unicode', lowercase=True,stop_words='english')\n",
    "X = vectorizer.fit_transform(train_texts)\n",
    "y = y_train"
   ]
  },
  {
   "cell_type": "code",
   "execution_count": 86,
   "metadata": {},
   "outputs": [
    {
     "data": {
      "text/plain": [
       "Ridge(alpha=1.5, copy_X=True, fit_intercept=True, max_iter=None,\n",
       "   normalize=False, random_state=None, solver='auto', tol=0.001)"
      ]
     },
     "execution_count": 86,
     "metadata": {},
     "output_type": "execute_result"
    }
   ],
   "source": [
    "reg = Ridge(alpha = 1.5)\n",
    "reg.fit(X,y)"
   ]
  },
  {
   "cell_type": "code",
   "execution_count": 87,
   "metadata": {},
   "outputs": [],
   "source": [
    "y_preds = reg.predict(X)"
   ]
  },
  {
   "cell_type": "code",
   "execution_count": 88,
   "metadata": {},
   "outputs": [
    {
     "data": {
      "text/plain": [
       "0.31220738297382533"
      ]
     },
     "execution_count": 88,
     "metadata": {},
     "output_type": "execute_result"
    }
   ],
   "source": [
    "mean_squared_error(y, y_preds)"
   ]
  },
  {
   "cell_type": "code",
   "execution_count": 89,
   "metadata": {},
   "outputs": [],
   "source": [
    "# Testing on test data\n",
    "testData = vectorizer.transform(test_texts)"
   ]
  },
  {
   "cell_type": "code",
   "execution_count": 90,
   "metadata": {},
   "outputs": [],
   "source": [
    "y_test_preds = reg.predict(testData)"
   ]
  },
  {
   "cell_type": "code",
   "execution_count": 91,
   "metadata": {},
   "outputs": [
    {
     "data": {
      "text/plain": [
       "0.3710308266373233"
      ]
     },
     "execution_count": 91,
     "metadata": {},
     "output_type": "execute_result"
    }
   ],
   "source": [
    "mean_squared_error(y_test, y_test_preds)"
   ]
  },
  {
   "cell_type": "code",
   "execution_count": null,
   "metadata": {},
   "outputs": [],
   "source": []
  }
 ],
 "metadata": {
  "kernelspec": {
   "display_name": "Python 3",
   "language": "python",
   "name": "python3"
  },
  "language_info": {
   "codemirror_mode": {
    "name": "ipython",
    "version": 3
   },
   "file_extension": ".py",
   "mimetype": "text/x-python",
   "name": "python",
   "nbconvert_exporter": "python",
   "pygments_lexer": "ipython3",
   "version": "3.7.3"
  }
 },
 "nbformat": 4,
 "nbformat_minor": 2
}
