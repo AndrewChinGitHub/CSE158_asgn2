{
 "cells": [
  {
   "cell_type": "code",
   "execution_count": 3,
   "metadata": {},
   "outputs": [],
   "source": [
    "import random\n",
    "import pandas as pd\n",
    "import numpy as np\n",
    "from collections import defaultdict\n",
    "import seaborn as sns\n",
    "\n",
    "from string import digits\n",
    "import string\n",
    "from nltk.stem.porter import *\n",
    "\n",
    "import tensorflow as tf\n",
    "\n",
    "import sklearn\n",
    "from sklearn.metrics import mean_squared_error\n",
    "from sklearn.linear_model import Ridge\n",
    "import matplotlib.pyplot as plt\n",
    "%matplotlib inline"
   ]
  },
  {
   "cell_type": "code",
   "execution_count": 4,
   "metadata": {},
   "outputs": [],
   "source": [
    "data = pd.read_csv('~/data/yelp/yelp_reviews.csv')\n",
    "data = data.sample(n=50000, replace=False) "
   ]
  },
  {
   "cell_type": "code",
   "execution_count": 5,
   "metadata": {},
   "outputs": [],
   "source": [
    "data = ((data[['user_id', 'business_id', 'city', 'stars_x', 'text', 'date', 'name_x', 'name_y', 'stars_y', 'review_count_y', 'is_open', 'attributes', 'categories', 'hours']])\n",
    "        .rename(columns={'stars_x': 'review_rating', 'name_x':'user_name', 'name_y': 'restaurant_name', 'review_count_y':'num_reviews', 'stars_y':'restaurant_rating'}))"
   ]
  },
  {
   "cell_type": "code",
   "execution_count": 6,
   "metadata": {},
   "outputs": [],
   "source": [
    "data['popularity'] = data['num_reviews'] /  data['restaurant_rating']"
   ]
  },
  {
   "cell_type": "code",
   "execution_count": 7,
   "metadata": {},
   "outputs": [],
   "source": [
    "trainData, testData = sklearn.model_selection.train_test_split(data)\n",
    "\n",
    "X_train = (trainData.drop(columns=['review_rating']))\n",
    "y_train = (trainData['review_rating'])\n",
    "\n",
    "X_test = (testData.drop(columns=['review_rating']))\n",
    "y_test = (testData['review_rating'])\n"
   ]
  },
  {
   "cell_type": "markdown",
   "metadata": {},
   "source": [
    "# BPR Model (Adapted from Julian McAuley's code in chapter 6 https://cseweb.ucsd.edu/~jmcauley/pml/code/chap6.html)"
   ]
  },
  {
   "cell_type": "code",
   "execution_count": 6,
   "metadata": {},
   "outputs": [],
   "source": [
    "class BPRbatch(tf.keras.Model):\n",
    "    def __init__(self, K, lamb):\n",
    "        super(BPRbatch, self).__init__()\n",
    "        # Initialize variables\n",
    "        self.betaI = tf.Variable(tf.random.normal([len(itemIDs)],stddev=0.001))\n",
    "        self.gammaU = tf.Variable(tf.random.normal([len(userIDs),K],stddev=0.001))\n",
    "        self.gammaI = tf.Variable(tf.random.normal([len(itemIDs),K],stddev=0.001))\n",
    "        # Regularization coefficient\n",
    "        self.lamb = lamb\n",
    "\n",
    "    # Prediction for a single instance\n",
    "    def predict(self, u, i):\n",
    "        p = self.betaI[i] + tf.tensordot(self.gammaU[u], self.gammaI[i], 1)\n",
    "        return p\n",
    "\n",
    "    # Regularizer\n",
    "    def reg(self):\n",
    "        return self.lamb * (tf.nn.l2_loss(self.betaI) +\\\n",
    "                            tf.nn.l2_loss(self.gammaU) +\\\n",
    "                            tf.nn.l2_loss(self.gammaI))\n",
    "    \n",
    "    def score(self, sampleU, sampleI):\n",
    "        u = tf.convert_to_tensor(sampleU, dtype=tf.int32)\n",
    "        i = tf.convert_to_tensor(sampleI, dtype=tf.int32)\n",
    "        beta_i = tf.nn.embedding_lookup(self.betaI, i)\n",
    "        gamma_u = tf.nn.embedding_lookup(self.gammaU, u)\n",
    "        gamma_i = tf.nn.embedding_lookup(self.gammaI, i)\n",
    "        x_ui = beta_i + tf.reduce_sum(tf.multiply(gamma_u, gamma_i), 1)\n",
    "        return x_ui\n",
    "\n",
    "    def call(self, sampleU, sampleI, sampleJ):\n",
    "        x_ui = self.score(sampleU, sampleI)\n",
    "        x_uj = self.score(sampleU, sampleJ)\n",
    "        return -tf.reduce_mean(tf.math.log(tf.math.sigmoid(x_ui - x_uj)))\n",
    "\n",
    "def trainingStepBPR(model, interactions):\n",
    "    Nsamples = 50000\n",
    "    with tf.GradientTape() as tape:\n",
    "        sampleU, sampleI, sampleJ = [], [], []\n",
    "        for _ in range(Nsamples):\n",
    "            u,i = random.choice(interactions) # positive sample\n",
    "            j = random.choice(items) # negative sample\n",
    "            while j in itemsPerUser[u]:\n",
    "                j = random.choice(items)\n",
    "            sampleU.append(userIDs[u])\n",
    "            sampleI.append(itemIDs[i])\n",
    "            sampleJ.append(itemIDs[j])\n",
    "\n",
    "        loss = model(sampleU,sampleI,sampleJ)\n",
    "        loss += model.reg()\n",
    "    gradients = tape.gradient(loss, model.trainable_variables)\n",
    "    optimizer.apply_gradients((grad, var) for\n",
    "                              (grad, var) in zip(gradients, model.trainable_variables)\n",
    "                              if grad is not None)\n",
    "    return loss.numpy()"
   ]
  },
  {
   "cell_type": "code",
   "execution_count": 7,
   "metadata": {},
   "outputs": [],
   "source": [
    "def AUCu(model, u, N):\n",
    "    win = 0\n",
    "    if N > len(interactionsTestPerUser[u]):\n",
    "        N = len(interactionsTestPerUser[u])\n",
    "    positive = random.sample(interactionsTestPerUser[u],N)\n",
    "    negative = random.sample(itemSet.difference(interactionsTestPerUser[u]),N)\n",
    "    for i,j in zip(positive,negative):\n",
    "        si = model.predict(userIDs[u], itemIDs[i]).numpy()\n",
    "        sj = model.predict(userIDs[u], itemIDs[j]).numpy()\n",
    "        if si > sj:\n",
    "            win += 1\n",
    "    return win/N"
   ]
  },
  {
   "cell_type": "code",
   "execution_count": 8,
   "metadata": {},
   "outputs": [],
   "source": [
    "def AUC(model):\n",
    "    av = []\n",
    "    for u in interactionsTestPerUser:\n",
    "        av.append(AUCu(model, u, 10))\n",
    "    return sum(av) / len(av)"
   ]
  },
  {
   "cell_type": "markdown",
   "metadata": {},
   "source": [
    "# Pre-Processing"
   ]
  },
  {
   "cell_type": "code",
   "execution_count": 9,
   "metadata": {},
   "outputs": [],
   "source": [
    "interactions = []\n",
    "\n",
    "userIDs = {}\n",
    "itemIDs = {}\n",
    "for row in range(len(data)):\n",
    "    u = data.iloc[row]['user_id']\n",
    "    i = data.iloc[row]['business_id']\n",
    "\n",
    "    if not u in userIDs: userIDs[u] = len(userIDs)\n",
    "    if not i in itemIDs: itemIDs[i] = len(itemIDs)\n",
    "    \n",
    "    \n",
    "    interactions.append((u, i))\n",
    "\n",
    "items = list(itemIDs.keys())\n",
    "\n",
    "itemsPerUser = defaultdict(list)\n",
    "usersPerItem = defaultdict(list)\n",
    "\n",
    "for row in range(len(X_train)):\n",
    "    u = X_train.iloc[row]['user_id']\n",
    "    i = X_train.iloc[row]['business_id']\n",
    "    \n",
    "    usersPerItem[i].append(u)\n",
    "    itemsPerUser[u].append(i)"
   ]
  },
  {
   "cell_type": "code",
   "execution_count": 10,
   "metadata": {},
   "outputs": [
    {
     "name": "stdout",
     "output_type": "stream",
     "text": [
      "0\n",
      "10000\n",
      "20000\n",
      "30000\n",
      "40000\n"
     ]
    }
   ],
   "source": [
    "userandcity = data[['user_id', 'city', 'business_id', 'date']]\n",
    "\n",
    "userCity = defaultdict(str)\n",
    "tracker = 0\n",
    "for user in userandcity['user_id'].unique():\n",
    "    businesses = []\n",
    "    shorter = userandcity[userandcity['user_id'] == user].sort_values('date', ascending=False)\n",
    "    businesses.append(shorter['city'].iloc[0])\n",
    "    # for item in itemsPerUser[user]:\n",
    "    #     business = data.loc[data['business_id']==item]['city'].unique()\n",
    "    #     businesses.append(business)\n",
    "\n",
    "    if len(businesses) != 0:\n",
    "        #userCity[user] = pd.Series(businesses).value_counts().idxmax().item()\n",
    "        userCity[user] = businesses[0]\n",
    "    else:\n",
    "        userCity[user] = 'Las Vegas'#np.random.choice(data['city'].unique())\n",
    "    \n",
    "    if tracker % 10000 == 0:\n",
    "        print(tracker)\n",
    "    tracker += 1\n"
   ]
  },
  {
   "cell_type": "code",
   "execution_count": 11,
   "metadata": {},
   "outputs": [],
   "source": [
    "interactionsTestPerUser = defaultdict(set)\n",
    "itemSet = set()\n",
    "for row in range(len(X_test)):\n",
    "    u = X_test.iloc[row]['user_id']\n",
    "    i = X_test.iloc[row]['business_id']\n",
    "\n",
    "    interactionsTestPerUser[u].add(i)\n",
    "    itemSet.add(i)"
   ]
  },
  {
   "cell_type": "markdown",
   "metadata": {},
   "source": [
    "# Training the Model"
   ]
  },
  {
   "cell_type": "code",
   "execution_count": 12,
   "metadata": {},
   "outputs": [],
   "source": [
    "aucs = []\n",
    "for attempt in [0.1, 0.5, 0.9]:\n",
    "    optimizer = tf.keras.optimizers.Adam(attempt)\n",
    "    modelBPR = BPRbatch(10, 0.00001)\n",
    "\n",
    "    losses = []\n",
    "    for i in range(100):\n",
    "        obj = trainingStepBPR(modelBPR, interactions)\n",
    "        losses.append(obj)\n",
    "        #if (i % 10 == 9): print(\"iteration \" + str(i+1) + \", objective = \" + str(obj))\n",
    "\n",
    "    aucs.append((attempt, AUC(modelBPR)))\n",
    "    "
   ]
  },
  {
   "cell_type": "code",
   "execution_count": 13,
   "metadata": {},
   "outputs": [
    {
     "data": {
      "text/plain": [
       "[(0.1, 0.789991975872278),\n",
       " (0.5, 0.8122298774245318),\n",
       " (0.9, 0.8092429650535403)]"
      ]
     },
     "execution_count": 13,
     "metadata": {},
     "output_type": "execute_result"
    }
   ],
   "source": [
    "aucs"
   ]
  },
  {
   "cell_type": "code",
   "execution_count": 15,
   "metadata": {},
   "outputs": [],
   "source": [
    "lambs = []\n",
    "for lamb in [0.00001, 0.005, 0.1]:\n",
    "    optimizer = tf.keras.optimizers.Adam(0.01)\n",
    "    modelBPR = BPRbatch(10, lamb)\n",
    "\n",
    "    losses = []\n",
    "    for i in range(100):\n",
    "        obj = trainingStepBPR(modelBPR, interactions)\n",
    "        losses.append(obj)\n",
    "        #if (i % 10 == 9): print(\"iteration \" + str(i+1) + \", objective = \" + str(obj))\n",
    "\n",
    "    lambs.append((lamb, AUC(modelBPR)))"
   ]
  },
  {
   "cell_type": "code",
   "execution_count": 16,
   "metadata": {},
   "outputs": [
    {
     "data": {
      "text/plain": [
       "[(1e-05, 0.6592443485238372),\n",
       " (0.005, 0.5657494258598268),\n",
       " (0.1, 0.5418748789463491)]"
      ]
     },
     "execution_count": 16,
     "metadata": {},
     "output_type": "execute_result"
    }
   ],
   "source": [
    "lambs"
   ]
  },
  {
   "cell_type": "code",
   "execution_count": null,
   "metadata": {},
   "outputs": [],
   "source": [
    "#lossPlot = sns.lineplot(x=range(len(losses)), y=losses).set(xlabel='Epoch', ylabel='Loss', title='Training Loss')"
   ]
  },
  {
   "cell_type": "code",
   "execution_count": null,
   "metadata": {},
   "outputs": [],
   "source": [
    "#lossPlot"
   ]
  },
  {
   "cell_type": "markdown",
   "metadata": {},
   "source": [
    "# AUC with positive and negative sampling for BPR"
   ]
  },
  {
   "cell_type": "code",
   "execution_count": 12,
   "metadata": {},
   "outputs": [],
   "source": []
  },
  {
   "cell_type": "code",
   "execution_count": 13,
   "metadata": {},
   "outputs": [
    {
     "data": {
      "text/plain": [
       "0.5210950735244291"
      ]
     },
     "execution_count": 13,
     "metadata": {},
     "output_type": "execute_result"
    }
   ],
   "source": [
    "## TOOK 16 MINUTES ##\n",
    "AUC(modelBPR)"
   ]
  },
  {
   "cell_type": "code",
   "execution_count": null,
   "metadata": {},
   "outputs": [],
   "source": []
  },
  {
   "cell_type": "code",
   "execution_count": null,
   "metadata": {},
   "outputs": [],
   "source": []
  },
  {
   "cell_type": "markdown",
   "metadata": {},
   "source": [
    "# RIDGE MODEL"
   ]
  },
  {
   "cell_type": "code",
   "execution_count": 8,
   "metadata": {},
   "outputs": [],
   "source": [
    "all_categories = defaultdict(int)\n",
    "def clean_text(text):\n",
    "    punct = string.punctuation\n",
    "    text = text.replace(\"\\n\", ' ').replace(\"\\t\", ' ').lower().strip()\n",
    "    text = [c for c in text if not (c in punct)]\n",
    "    text = ''.join(text)\n",
    "    text = text.strip().replace(\"  \",' ')\n",
    "    for i in text.split():\n",
    "        all_categories[i] += 1\n",
    "    return text"
   ]
  },
  {
   "cell_type": "code",
   "execution_count": 9,
   "metadata": {},
   "outputs": [],
   "source": [
    "data['categories'] = data['categories'].astype(str)\n",
    "data['categories'] = data['categories'].apply(clean_text)\n",
    "\n",
    "catDf = pd.DataFrame(np.zeros([len(data), len(all_categories)]), columns=all_categories)"
   ]
  },
  {
   "cell_type": "code",
   "execution_count": 10,
   "metadata": {},
   "outputs": [],
   "source": [
    "## LONG ~5 MIN ##\n",
    "for i in range(len(data)):\n",
    "    for j in data.iloc[i]['categories'].split():\n",
    "        catDf.iloc[i][j] = 1"
   ]
  },
  {
   "cell_type": "code",
   "execution_count": 11,
   "metadata": {},
   "outputs": [],
   "source": [
    "subData = pd.concat([data[['restaurant_rating', 'num_reviews', 'is_open', 'popularity', 'review_rating']].reset_index(drop=True), catDf], axis=1).astype(np.float32)\n",
    "#subData = pd.concat([subData, data[['user_id']].reset_index(drop=True)], axis=1)"
   ]
  },
  {
   "cell_type": "code",
   "execution_count": 12,
   "metadata": {},
   "outputs": [],
   "source": [
    "trainData, testData = sklearn.model_selection.train_test_split(subData)\n",
    "\n",
    "X_train = np.array(trainData.drop(columns=['review_rating']))\n",
    "y_train = np.array(trainData['review_rating'])\n",
    "\n",
    "X_test = np.array(testData.drop(columns=['review_rating']))\n",
    "y_test = np.array(testData['review_rating'])\n"
   ]
  },
  {
   "cell_type": "code",
   "execution_count": null,
   "metadata": {},
   "outputs": [],
   "source": []
  },
  {
   "cell_type": "code",
   "execution_count": 25,
   "metadata": {},
   "outputs": [],
   "source": [
    "ridge_mses = []\n",
    "alphas = [0.001, 0.005, 0.01, 0.05, 0.1, 0.3, 0.5, 0.7, 0.9,]\n",
    "for a in alphas:\n",
    "    model = Ridge(alpha=a, normalize=True)\n",
    "    model.fit(X_train, y_train)\n",
    "\n",
    "    preds = model.predict(X_test)\n",
    "    mse = mean_squared_error(preds, y_test)\n",
    "    ridge_mses.append(mse)"
   ]
  },
  {
   "cell_type": "code",
   "execution_count": 26,
   "metadata": {},
   "outputs": [
    {
     "data": {
      "text/plain": [
       "[1.7646408,\n",
       " 1.7632651,\n",
       " 1.7620567,\n",
       " 1.7571847,\n",
       " 1.7556378,\n",
       " 1.7671311,\n",
       " 1.7872031,\n",
       " 1.8080482,\n",
       " 1.827752]"
      ]
     },
     "execution_count": 26,
     "metadata": {},
     "output_type": "execute_result"
    }
   ],
   "source": [
    "ridge_mses"
   ]
  },
  {
   "cell_type": "code",
   "execution_count": 27,
   "metadata": {},
   "outputs": [
    {
     "data": {
      "text/plain": [
       "[Text(0.5, 1.0, 'Ridge Regression Model MSE | 50,000 Samples'),\n",
       " Text(0.5, 0, 'Regularization Coefficient'),\n",
       " Text(0, 0.5, 'MSE')]"
      ]
     },
     "execution_count": 27,
     "metadata": {},
     "output_type": "execute_result"
    },
    {
     "data": {
      "image/png": "[encoded data removed]",
      "text/plain": [
       "<Figure size 432x288 with 1 Axes>"
      ]
     },
     "metadata": {
      "needs_background": "light"
     },
     "output_type": "display_data"
    }
   ],
   "source": [
    "sns.lineplot(x=alphas, y=ridge_mses).set(title='Ridge Regression Model MSE | 50,000 Samples', xlabel='Regularization Coefficient', ylabel='MSE')"
   ]
  },
  {
   "cell_type": "code",
   "execution_count": 23,
   "metadata": {},
   "outputs": [],
   "source": [
    "pped = np.array(subData.drop(columns=['restaurant_rating']))"
   ]
  },
  {
   "cell_type": "code",
   "execution_count": 24,
   "metadata": {},
   "outputs": [],
   "source": [
    "test_preds = []\n",
    "for i, j in list(enumerate(pped)):\n",
    "    test_pred = model.predict(j.reshape(1, -1))\n",
    "    test_preds.append((i, test_pred.item()))\n"
   ]
  },
  {
   "cell_type": "code",
   "execution_count": 25,
   "metadata": {},
   "outputs": [],
   "source": [
    "test_preds.sort(key=lambda x:x[1], reverse=True)"
   ]
  },
  {
   "cell_type": "code",
   "execution_count": 26,
   "metadata": {},
   "outputs": [],
   "source": [
    "top = data.iloc[[i[0] for i in test_preds]]"
   ]
  },
  {
   "cell_type": "markdown",
   "metadata": {},
   "source": [
    "# Recommender"
   ]
  },
  {
   "cell_type": "code",
   "execution_count": 27,
   "metadata": {},
   "outputs": [],
   "source": [
    "def recommend(user, N, inputCity=None):\n",
    "    outputs = []\n",
    "    # COLD START \n",
    "    if user not in data['user_id'].unique():\n",
    "        # If city not specified (will recommend over all locations by popularity)\n",
    "        if inputCity != None:\n",
    "            locals = data[data['city'] == inputCity]\n",
    "            outputs = locals.sort_values('popularity', ascending=False)['restaurant_name'].unique()[:N]\n",
    "            print('cold start | city specified: {}'.format(inputCity))\n",
    "        # If city is specified (will recommend over city by popularity)\n",
    "        else:\n",
    "            outputs = data.sort_values('popularity', ascending=False)['restaurant_name'].unique()[:N]\n",
    "            print('cold start | no city specified, user location: North America')\n",
    "    # WARM START\n",
    "    else:\n",
    "        # If city not specified (finds automatically, recommends by BPR)\n",
    "        if inputCity == None:\n",
    "            preds = []\n",
    "            for i in data[data['city'] == userCity[user]]['business_id'].unique():\n",
    "                pred = modelBPR.predict(userIDs[user], itemIDs[i]).numpy()\n",
    "                preds.append((i, pred))\n",
    "\n",
    "            preds.sort(key=lambda x: x[1])\n",
    "            preds.reverse()\n",
    "\n",
    "            \n",
    "            for i, j in preds[:N]:\n",
    "                output = data[data['business_id'] == i]['restaurant_name'].unique()\n",
    "                outputs.append(output.item())\n",
    "            print('warm start | no city specified, user location: {}'.format(userCity[user]))\n",
    "        \n",
    "        # If city is passed specified (recommends by BPR)\n",
    "        else:\n",
    "            preds = []\n",
    "            for i in data[data['city'] == inputCity]['business_id'].unique():\n",
    "                pred = modelBPR.predict(userIDs[user], itemIDs[i]).numpy()\n",
    "                preds.append((i, pred))\n",
    "\n",
    "            preds.sort(key=lambda x: x[1])\n",
    "            preds.reverse()\n",
    "\n",
    "            \n",
    "            for i, j in preds[:N]:\n",
    "                output = data[data['business_id'] == i]['restaurant_name'].unique()\n",
    "                outputs.append(output.item())\n",
    "            print('warm start | city specified: {}'.format(inputCity))\n",
    "\n",
    "    # COMBINATION with Ridge Model\n",
    "    # Get intersection of BPR and ridge models with BPR priority\n",
    "    # The BPR priority is so that we don't recommend the same things each time and add \n",
    "    # user specificity\n",
    "\n",
    "    # city specified\n",
    "    if inputCity != None:\n",
    "        localTop = top[top['city'] == inputCity]['restaurant_name'].unique()\n",
    "    # city not specified\n",
    "    else:\n",
    "        localTop = top[top['city'] == userCity[user]]['restaurant_name'].unique()\n",
    "\n",
    "    ridgeTop = list(localTop[:10])\n",
    "    \n",
    "    theBest = []\n",
    "    for i in outputs:\n",
    "        for j in ridgeTop:\n",
    "            if i == j:\n",
    "                theBest.append(i)\n",
    "\n",
    "\n",
    "    # Ensure we get some recommendations\n",
    "    if len(theBest) < N:\n",
    "        theBest = outputs[:N]\n",
    "\n",
    "    return theBest[:N]"
   ]
  },
  {
   "cell_type": "code",
   "execution_count": 32,
   "metadata": {},
   "outputs": [
    {
     "name": "stdout",
     "output_type": "stream",
     "text": [
      "warm start | city specified: Las Vegas\n"
     ]
    },
    {
     "data": {
      "text/plain": [
       "['Bacchanal Buffet',\n",
       " 'Hash House A Go Go',\n",
       " 'Mon Ami Gabi',\n",
       " 'Holsteins',\n",
       " 'Flamingo Las Vegas Hotel & Casino',\n",
       " 'Gordon Ramsay BurGR',\n",
       " 'Lotus of Siam',\n",
       " 'Earl of Sandwich',\n",
       " 'Gordon Ramsay Pub & Grill',\n",
       " 'Luxor Hotel and Casino Las Vegas']"
      ]
     },
     "execution_count": 32,
     "metadata": {},
     "output_type": "execute_result"
    }
   ],
   "source": [
    "recommend(data.iloc[0]['user_id'], 10, 'Las Vegas')"
   ]
  },
  {
   "cell_type": "code",
   "execution_count": 33,
   "metadata": {},
   "outputs": [
    {
     "name": "stdout",
     "output_type": "stream",
     "text": [
      "warm start | no city specified, user location: Toronto\n"
     ]
    },
    {
     "data": {
      "text/plain": [
       "['Grand Electric',\n",
       " 'Seven Lives Tacos Y Mariscos',\n",
       " 'Khao San Road',\n",
       " \"Lil' Baci\",\n",
       " \"Rachel's Coffee House\",\n",
       " 'Hokkaido Ramen Santouka',\n",
       " 'Karbouzi',\n",
       " 'Gusto 101',\n",
       " 'Mad Dog Cafe',\n",
       " 'Oskar On Scollard']"
      ]
     },
     "execution_count": 33,
     "metadata": {},
     "output_type": "execute_result"
    }
   ],
   "source": [
    "recommend(data.iloc[0]['user_id'], 10)"
   ]
  },
  {
   "cell_type": "code",
   "execution_count": 30,
   "metadata": {},
   "outputs": [
    {
     "name": "stdout",
     "output_type": "stream",
     "text": [
      "cold start | city specified: Phoenix\n"
     ]
    },
    {
     "data": {
      "text/plain": [
       "array(['Cox Communications', 'Snooze, An A.M. Eatery',\n",
       "       'Phoenix Sky Harbor International Airport', 'Bobby Q',\n",
       "       'Pizzeria Bianco', 'The Arrogant Butcher', 'Lux Central',\n",
       "       'La Santisima Gourmet Taco Shop', \"Lo-Lo's Chicken & Waffles\",\n",
       "       \"Matt's Big Breakfast\"], dtype=object)"
      ]
     },
     "execution_count": 30,
     "metadata": {},
     "output_type": "execute_result"
    }
   ],
   "source": [
    "recommend('newUser', 10, 'Phoenix')"
   ]
  },
  {
   "cell_type": "code",
   "execution_count": 31,
   "metadata": {},
   "outputs": [
    {
     "name": "stdout",
     "output_type": "stream",
     "text": [
      "cold start | no city specified, user location: North America\n"
     ]
    },
    {
     "data": {
      "text/plain": [
       "array(['Bacchanal Buffet', 'Mon Ami Gabi', 'Wicked Spoon',\n",
       "       'Luxor Hotel and Casino Las Vegas', 'Hash House A Go Go',\n",
       "       'Flamingo Las Vegas Hotel & Casino',\n",
       "       'Circus Circus Las Vegas Hotel and Casino', 'MGM Grand Hotel',\n",
       "       'Gordon Ramsay BurGR', 'The Buffet At Wynn'], dtype=object)"
      ]
     },
     "execution_count": 31,
     "metadata": {},
     "output_type": "execute_result"
    }
   ],
   "source": [
    "recommend('newUser_With_Location_Off', 10)"
   ]
  }
 ],
 "metadata": {
  "interpreter": {
   "hash": "6d47d43fe5375968013aeb2d2652e50181d036f4d81d9ca01ef41efb642fb8d6"
  },
  "kernelspec": {
   "display_name": "Python 3.7.8 64-bit ('data_analysis': conda)",
   "language": "python",
   "name": "python3"
  },
  "language_info": {
   "codemirror_mode": {
    "name": "ipython",
    "version": 3
   },
   "file_extension": ".py",
   "mimetype": "text/x-python",
   "name": "python",
   "nbconvert_exporter": "python",
   "pygments_lexer": "ipython3",
   "version": "3.7.8"
  },
  "orig_nbformat": 4
 },
 "nbformat": 4,
 "nbformat_minor": 2
}
